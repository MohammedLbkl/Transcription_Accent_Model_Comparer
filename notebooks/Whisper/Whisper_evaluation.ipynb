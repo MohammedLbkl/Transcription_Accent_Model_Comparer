{
 "cells": [
  {
   "cell_type": "code",
   "execution_count": 1,
   "metadata": {},
   "outputs": [],
   "source": [
    "import pandas as pd\n",
    "from IPython.display import HTML\n",
    "import whisper\n",
    "import warnings\n",
    "warnings.filterwarnings(\"ignore\")\n",
    "from jiwer import wer\n",
    "import re\n",
    "import time"
   ]
  },
  {
   "cell_type": "code",
   "execution_count": 2,
   "metadata": {},
   "outputs": [
    {
     "data": {
      "text/html": [
       "<div>\n",
       "<style scoped>\n",
       "    .dataframe tbody tr th:only-of-type {\n",
       "        vertical-align: middle;\n",
       "    }\n",
       "\n",
       "    .dataframe tbody tr th {\n",
       "        vertical-align: top;\n",
       "    }\n",
       "\n",
       "    .dataframe thead th {\n",
       "        text-align: right;\n",
       "    }\n",
       "</style>\n",
       "<table border=\"1\" class=\"dataframe\">\n",
       "  <thead>\n",
       "    <tr style=\"text-align: right;\">\n",
       "      <th></th>\n",
       "      <th>path</th>\n",
       "      <th>sentence</th>\n",
       "      <th>age</th>\n",
       "      <th>gender</th>\n",
       "      <th>accents</th>\n",
       "      <th>duration[ms]</th>\n",
       "      <th>wav_path</th>\n",
       "    </tr>\n",
       "  </thead>\n",
       "  <tbody>\n",
       "    <tr>\n",
       "      <th>0</th>\n",
       "      <td>common_voice_en_40865211.mp3</td>\n",
       "      <td>With this transition to the big time, the band...</td>\n",
       "      <td>NaN</td>\n",
       "      <td>NaN</td>\n",
       "      <td>United States English</td>\n",
       "      <td>5904</td>\n",
       "      <td>common_voice_en_40865211.wav</td>\n",
       "    </tr>\n",
       "    <tr>\n",
       "      <th>1</th>\n",
       "      <td>common_voice_en_40865212.mp3</td>\n",
       "      <td>Local brothels recruited extra staff to cope w...</td>\n",
       "      <td>NaN</td>\n",
       "      <td>NaN</td>\n",
       "      <td>United States English</td>\n",
       "      <td>5544</td>\n",
       "      <td>common_voice_en_40865212.wav</td>\n",
       "    </tr>\n",
       "    <tr>\n",
       "      <th>2</th>\n",
       "      <td>common_voice_en_40865213.mp3</td>\n",
       "      <td>With Fox on lead vocals, the threesome did two...</td>\n",
       "      <td>NaN</td>\n",
       "      <td>NaN</td>\n",
       "      <td>United States English</td>\n",
       "      <td>5760</td>\n",
       "      <td>common_voice_en_40865213.wav</td>\n",
       "    </tr>\n",
       "    <tr>\n",
       "      <th>3</th>\n",
       "      <td>common_voice_en_40865214.mp3</td>\n",
       "      <td>Miramax requested cuts be made and Christopher...</td>\n",
       "      <td>NaN</td>\n",
       "      <td>NaN</td>\n",
       "      <td>United States English</td>\n",
       "      <td>5652</td>\n",
       "      <td>common_voice_en_40865214.wav</td>\n",
       "    </tr>\n",
       "    <tr>\n",
       "      <th>4</th>\n",
       "      <td>common_voice_en_40865215.mp3</td>\n",
       "      <td>The Key allows customers to buy Plusbus for th...</td>\n",
       "      <td>NaN</td>\n",
       "      <td>NaN</td>\n",
       "      <td>United States English</td>\n",
       "      <td>6120</td>\n",
       "      <td>common_voice_en_40865215.wav</td>\n",
       "    </tr>\n",
       "    <tr>\n",
       "      <th>...</th>\n",
       "      <td>...</td>\n",
       "      <td>...</td>\n",
       "      <td>...</td>\n",
       "      <td>...</td>\n",
       "      <td>...</td>\n",
       "      <td>...</td>\n",
       "      <td>...</td>\n",
       "    </tr>\n",
       "    <tr>\n",
       "      <th>18321</th>\n",
       "      <td>common_voice_en_41227190.mp3</td>\n",
       "      <td>Bolton's wife is named Liliana; they have two ...</td>\n",
       "      <td>fourties</td>\n",
       "      <td>female_feminine</td>\n",
       "      <td>Scottish English</td>\n",
       "      <td>9756</td>\n",
       "      <td>common_voice_en_41227190.wav</td>\n",
       "    </tr>\n",
       "    <tr>\n",
       "      <th>18322</th>\n",
       "      <td>common_voice_en_41227191.mp3</td>\n",
       "      <td>One report indicates that they formerly spoke ...</td>\n",
       "      <td>fourties</td>\n",
       "      <td>female_feminine</td>\n",
       "      <td>Scottish English</td>\n",
       "      <td>10296</td>\n",
       "      <td>common_voice_en_41227191.wav</td>\n",
       "    </tr>\n",
       "    <tr>\n",
       "      <th>18323</th>\n",
       "      <td>common_voice_en_41227192.mp3</td>\n",
       "      <td>He was fascinated by topics including photogra...</td>\n",
       "      <td>fourties</td>\n",
       "      <td>female_feminine</td>\n",
       "      <td>Scottish English</td>\n",
       "      <td>9576</td>\n",
       "      <td>common_voice_en_41227192.wav</td>\n",
       "    </tr>\n",
       "    <tr>\n",
       "      <th>18324</th>\n",
       "      <td>common_voice_en_41227193.mp3</td>\n",
       "      <td>Just some Galley Push-Ups.</td>\n",
       "      <td>fourties</td>\n",
       "      <td>female_feminine</td>\n",
       "      <td>Scottish English</td>\n",
       "      <td>5148</td>\n",
       "      <td>common_voice_en_41227193.wav</td>\n",
       "    </tr>\n",
       "    <tr>\n",
       "      <th>18325</th>\n",
       "      <td>common_voice_en_41227194.mp3</td>\n",
       "      <td>I like 'spontaneous' as a sexual description.</td>\n",
       "      <td>fourties</td>\n",
       "      <td>female_feminine</td>\n",
       "      <td>Scottish English</td>\n",
       "      <td>7020</td>\n",
       "      <td>common_voice_en_41227194.wav</td>\n",
       "    </tr>\n",
       "  </tbody>\n",
       "</table>\n",
       "<p>18326 rows × 7 columns</p>\n",
       "</div>"
      ],
      "text/plain": [
       "                               path  \\\n",
       "0      common_voice_en_40865211.mp3   \n",
       "1      common_voice_en_40865212.mp3   \n",
       "2      common_voice_en_40865213.mp3   \n",
       "3      common_voice_en_40865214.mp3   \n",
       "4      common_voice_en_40865215.mp3   \n",
       "...                             ...   \n",
       "18321  common_voice_en_41227190.mp3   \n",
       "18322  common_voice_en_41227191.mp3   \n",
       "18323  common_voice_en_41227192.mp3   \n",
       "18324  common_voice_en_41227193.mp3   \n",
       "18325  common_voice_en_41227194.mp3   \n",
       "\n",
       "                                                sentence       age  \\\n",
       "0      With this transition to the big time, the band...       NaN   \n",
       "1      Local brothels recruited extra staff to cope w...       NaN   \n",
       "2      With Fox on lead vocals, the threesome did two...       NaN   \n",
       "3      Miramax requested cuts be made and Christopher...       NaN   \n",
       "4      The Key allows customers to buy Plusbus for th...       NaN   \n",
       "...                                                  ...       ...   \n",
       "18321  Bolton's wife is named Liliana; they have two ...  fourties   \n",
       "18322  One report indicates that they formerly spoke ...  fourties   \n",
       "18323  He was fascinated by topics including photogra...  fourties   \n",
       "18324                         Just some Galley Push-Ups.  fourties   \n",
       "18325      I like 'spontaneous' as a sexual description.  fourties   \n",
       "\n",
       "                gender                accents  duration[ms]  \\\n",
       "0                  NaN  United States English          5904   \n",
       "1                  NaN  United States English          5544   \n",
       "2                  NaN  United States English          5760   \n",
       "3                  NaN  United States English          5652   \n",
       "4                  NaN  United States English          6120   \n",
       "...                ...                    ...           ...   \n",
       "18321  female_feminine       Scottish English          9756   \n",
       "18322  female_feminine       Scottish English         10296   \n",
       "18323  female_feminine       Scottish English          9576   \n",
       "18324  female_feminine       Scottish English          5148   \n",
       "18325  female_feminine       Scottish English          7020   \n",
       "\n",
       "                           wav_path  \n",
       "0      common_voice_en_40865211.wav  \n",
       "1      common_voice_en_40865212.wav  \n",
       "2      common_voice_en_40865213.wav  \n",
       "3      common_voice_en_40865214.wav  \n",
       "4      common_voice_en_40865215.wav  \n",
       "...                             ...  \n",
       "18321  common_voice_en_41227190.wav  \n",
       "18322  common_voice_en_41227191.wav  \n",
       "18323  common_voice_en_41227192.wav  \n",
       "18324  common_voice_en_41227193.wav  \n",
       "18325  common_voice_en_41227194.wav  \n",
       "\n",
       "[18326 rows x 7 columns]"
      ]
     },
     "execution_count": 2,
     "metadata": {},
     "output_type": "execute_result"
    }
   ],
   "source": [
    "df1 = pd.read_csv(\"../../Data/raw/other.tsv\", sep=\"\\t\")\n",
    "df1 = df1[[\"path\",\"sentence\",\"age\",\"gender\",\"accents\"]]\n",
    "df2 = pd.read_csv(\"../../Data/raw/clip_durations.tsv\", sep=\"\\t\")\n",
    "df2 = df2.rename(columns={'clip': 'path'})\n",
    "\n",
    "metadata = pd.merge(df1, df2, on='path')\n",
    "metadata['wav_path'] = metadata['path'].str.replace('.mp3', '.wav', regex=False)\n",
    "\n",
    "metadata"
   ]
  },
  {
   "cell_type": "code",
   "execution_count": 3,
   "metadata": {},
   "outputs": [
    {
     "name": "stdout",
     "output_type": "stream",
     "text": [
      "Sentence : 0\n",
      "Age : 6181\n",
      "Gender : 7759\n",
      "Accents : 4160\n",
      "Duration : 0\n"
     ]
    }
   ],
   "source": [
    "print(f'Sentence : {metadata[\"sentence\"].isna().sum()}')\n",
    "print(f'Age : {metadata[\"age\"].isna().sum()}')\n",
    "print(f'Gender : {metadata[\"gender\"].isna().sum()}')\n",
    "print(f'Accents : {metadata[\"accents\"].isna().sum()}')\n",
    "print(f'Duration : {metadata[\"duration[ms]\"].isna().sum()}')"
   ]
  },
  {
   "cell_type": "code",
   "execution_count": 4,
   "metadata": {},
   "outputs": [
    {
     "name": "stdout",
     "output_type": "stream",
     "text": [
      "['United States English' nan 'Australian English']\n",
      "70\n"
     ]
    }
   ],
   "source": [
    "print(metadata['accents'].unique()[:3])\n",
    "print(len(metadata['accents'].unique()))"
   ]
  },
  {
   "cell_type": "code",
   "execution_count": 5,
   "metadata": {},
   "outputs": [
    {
     "name": "stdout",
     "output_type": "stream",
     "text": [
      "[nan 'fourties' 'thirties' 'twenties' 'teens' 'sixties' 'fifties']\n",
      "7\n"
     ]
    }
   ],
   "source": [
    "print(metadata['age'].unique())\n",
    "print(len(metadata['age'].unique()))"
   ]
  },
  {
   "cell_type": "code",
   "execution_count": 6,
   "metadata": {},
   "outputs": [
    {
     "name": "stdout",
     "output_type": "stream",
     "text": [
      "[nan 'male_masculine' 'female_feminine' 'non-binary' 'do_not_wish_to_say'\n",
      " 'transgender']\n",
      "6\n"
     ]
    }
   ],
   "source": [
    "print(metadata['gender'].unique())\n",
    "print(len(metadata['gender'].unique()))"
   ]
  },
  {
   "cell_type": "code",
   "execution_count": 7,
   "metadata": {},
   "outputs": [],
   "source": [
    "# metadata.to_csv('../../data/processed/Common Voice.csv', index=False)"
   ]
  },
  {
   "cell_type": "code",
   "execution_count": 8,
   "metadata": {},
   "outputs": [],
   "source": [
    "AUDIO_PATH = \"../../clips.wav/common_voice_en_40865212.wav\""
   ]
  },
  {
   "cell_type": "code",
   "execution_count": 9,
   "metadata": {},
   "outputs": [
    {
     "data": {
      "text/html": [
       "\n",
       "<audio controls>\n",
       "  <source src=\"../../clips.wav/common_voice_en_40865212.wav\" type=\"audio/mpeg\">\n",
       "  Votre navigateur ne supporte pas la balise audio.\n",
       "</audio>\n"
      ],
      "text/plain": [
       "<IPython.core.display.HTML object>"
      ]
     },
     "execution_count": 9,
     "metadata": {},
     "output_type": "execute_result"
    }
   ],
   "source": [
    "file_path = AUDIO_PATH\n",
    "\n",
    "HTML(f\"\"\"\n",
    "<audio controls>\n",
    "  <source src=\"{file_path}\" type=\"audio/mpeg\">\n",
    "  Votre navigateur ne supporte pas la balise audio.\n",
    "</audio>\n",
    "\"\"\")\n"
   ]
  },
  {
   "cell_type": "code",
   "execution_count": 16,
   "metadata": {},
   "outputs": [
    {
     "name": "stdout",
     "output_type": "stream",
     "text": [
      " Local brothels recruited extra staff to cope with the increase in business.\n"
     ]
    }
   ],
   "source": [
    "model = whisper.load_model(\"base\")\n",
    "result = model.transcribe(AUDIO_PATH)\n",
    "print(result[\"text\"])"
   ]
  },
  {
   "cell_type": "code",
   "execution_count": 11,
   "metadata": {},
   "outputs": [
    {
     "data": {
      "text/html": [
       "<div>\n",
       "<style scoped>\n",
       "    .dataframe tbody tr th:only-of-type {\n",
       "        vertical-align: middle;\n",
       "    }\n",
       "\n",
       "    .dataframe tbody tr th {\n",
       "        vertical-align: top;\n",
       "    }\n",
       "\n",
       "    .dataframe thead th {\n",
       "        text-align: right;\n",
       "    }\n",
       "</style>\n",
       "<table border=\"1\" class=\"dataframe\">\n",
       "  <thead>\n",
       "    <tr style=\"text-align: right;\">\n",
       "      <th></th>\n",
       "      <th>path</th>\n",
       "      <th>sentence</th>\n",
       "      <th>wav_path</th>\n",
       "    </tr>\n",
       "  </thead>\n",
       "  <tbody>\n",
       "    <tr>\n",
       "      <th>0</th>\n",
       "      <td>common_voice_en_40865211.mp3</td>\n",
       "      <td>With this transition to the big time, the band...</td>\n",
       "      <td>common_voice_en_40865211.wav</td>\n",
       "    </tr>\n",
       "    <tr>\n",
       "      <th>1</th>\n",
       "      <td>common_voice_en_40865212.mp3</td>\n",
       "      <td>Local brothels recruited extra staff to cope w...</td>\n",
       "      <td>common_voice_en_40865212.wav</td>\n",
       "    </tr>\n",
       "    <tr>\n",
       "      <th>2</th>\n",
       "      <td>common_voice_en_40865213.mp3</td>\n",
       "      <td>With Fox on lead vocals, the threesome did two...</td>\n",
       "      <td>common_voice_en_40865213.wav</td>\n",
       "    </tr>\n",
       "    <tr>\n",
       "      <th>3</th>\n",
       "      <td>common_voice_en_40865214.mp3</td>\n",
       "      <td>Miramax requested cuts be made and Christopher...</td>\n",
       "      <td>common_voice_en_40865214.wav</td>\n",
       "    </tr>\n",
       "    <tr>\n",
       "      <th>4</th>\n",
       "      <td>common_voice_en_40865215.mp3</td>\n",
       "      <td>The Key allows customers to buy Plusbus for th...</td>\n",
       "      <td>common_voice_en_40865215.wav</td>\n",
       "    </tr>\n",
       "  </tbody>\n",
       "</table>\n",
       "</div>"
      ],
      "text/plain": [
       "                           path  \\\n",
       "0  common_voice_en_40865211.mp3   \n",
       "1  common_voice_en_40865212.mp3   \n",
       "2  common_voice_en_40865213.mp3   \n",
       "3  common_voice_en_40865214.mp3   \n",
       "4  common_voice_en_40865215.mp3   \n",
       "\n",
       "                                            sentence  \\\n",
       "0  With this transition to the big time, the band...   \n",
       "1  Local brothels recruited extra staff to cope w...   \n",
       "2  With Fox on lead vocals, the threesome did two...   \n",
       "3  Miramax requested cuts be made and Christopher...   \n",
       "4  The Key allows customers to buy Plusbus for th...   \n",
       "\n",
       "                       wav_path  \n",
       "0  common_voice_en_40865211.wav  \n",
       "1  common_voice_en_40865212.wav  \n",
       "2  common_voice_en_40865213.wav  \n",
       "3  common_voice_en_40865214.wav  \n",
       "4  common_voice_en_40865215.wav  "
      ]
     },
     "execution_count": 11,
     "metadata": {},
     "output_type": "execute_result"
    }
   ],
   "source": [
    "metadata=metadata[[\"path\",\"sentence\",\"wav_path\"]]\n",
    "\n",
    "metadata.head(5)"
   ]
  },
  {
   "cell_type": "code",
   "execution_count": 12,
   "metadata": {},
   "outputs": [
    {
     "name": "stdout",
     "output_type": "stream",
     "text": [
      "WER: 37.50%\n"
     ]
    }
   ],
   "source": [
    "reference = \"Evaluons sa capacité à transcrire correctement une phrase.\"\n",
    "hypothesis = \"Evaluons sa capacité à transcrir correctement une phrases complexe\"\n",
    "\n",
    "score = wer(reference, hypothesis)\n",
    "print(f\"WER: {score:.2%}\")\n"
   ]
  },
  {
   "cell_type": "code",
   "execution_count": 13,
   "metadata": {},
   "outputs": [],
   "source": [
    "model_tiny = whisper.load_model(\"tiny\")\n",
    "model_base = whisper.load_model(\"base\")\n",
    "model_small = whisper.load_model(\"small\")\n",
    "model_medium = whisper.load_model(\"medium\")\n",
    "model_turbo = whisper.load_model(\"turbo\")\n",
    "model_turbo = whisper.load_model(\"large\")\n",
    "\n",
    "list_models = [\"tiny\", \"base\", \"small\", \"medium\", \"turbo\",\"large\"]\n"
   ]
  },
  {
   "cell_type": "code",
   "execution_count": 17,
   "metadata": {},
   "outputs": [
    {
     "name": "stdout",
     "output_type": "stream",
     "text": [
      "Model: tiny\n",
      "WER moyen: 14.85%\n",
      "Durée moyenne de transcription : 2.80 secondes\n",
      "Model: base\n",
      "WER moyen: 11.53%\n",
      "Durée moyenne de transcription : 5.06 secondes\n",
      "Model: small\n",
      "WER moyen: 5.88%\n",
      "Durée moyenne de transcription : 13.82 secondes\n",
      "Model: medium\n",
      "WER moyen: 5.97%\n",
      "Durée moyenne de transcription : 37.38 secondes\n",
      "Model: turbo\n",
      "WER moyen: 2.75%\n",
      "Durée moyenne de transcription : 62.51 secondes\n",
      "Model: large\n",
      "WER moyen: 4.55%\n",
      "Durée moyenne de transcription : 77.54 secondes\n"
     ]
    }
   ],
   "source": [
    "for model_name in list_models:\n",
    "    print(f\"Model: {model_name}\")\n",
    "    list_score = []\n",
    "    list_duration = []\n",
    "    for i in range(30):\n",
    "\n",
    "        model = whisper.load_model(model_name)\n",
    "        \n",
    "        start = time.time()\n",
    "        \n",
    "        \n",
    "        audio = whisper.load_audio(f'../../clips.wav/{metadata[\"wav_path\"].iloc[i]}')\n",
    "        audio = whisper.pad_or_trim(audio)\n",
    "\n",
    "        \n",
    "        mel = whisper.log_mel_spectrogram(audio, n_mels=model.dims.n_mels).to(model.device)\n",
    "        \n",
    "        \n",
    "        options = whisper.DecodingOptions()\n",
    "        result = whisper.decode(model, mel, options)\n",
    "\n",
    "        end = time.time()\n",
    "\n",
    "        duration = end - start\n",
    "        \n",
    "        reference = metadata[\"sentence\"].iloc[i].lower()  # conversion en minuscules\n",
    "        reference = re.sub(r'[^\\w\\s]', '', reference)  # supprime tout sauf lettres/chiffres/espaces\n",
    "        \n",
    "\n",
    "        hypothesis = result.text.lower()  # conversion en minuscules\n",
    "        hypothesis = re.sub(r'[^\\w\\s]', '', hypothesis)  # supprime tout sauf lettres/chiffres/espaces\n",
    "\n",
    "        score = wer(reference, hypothesis)\n",
    "\n",
    "        list_score.append(score)\n",
    "        list_duration.append(duration)\n",
    "        \n",
    "    moyenne_duration = sum(list_duration) / len(list_duration)\n",
    "    moyenne_score = sum(list_score) / len(list_score)\n",
    "    print(f\"WER moyen: {moyenne_score:.2%}\")\n",
    "    print(f\"Durée moyenne de transcription : {moyenne_duration:.2f} secondes\")\n",
    "    \n",
    "\n"
   ]
  }
 ],
 "metadata": {
  "kernelspec": {
   "display_name": ".venv",
   "language": "python",
   "name": "python3"
  },
  "language_info": {
   "codemirror_mode": {
    "name": "ipython",
    "version": 3
   },
   "file_extension": ".py",
   "mimetype": "text/x-python",
   "name": "python",
   "nbconvert_exporter": "python",
   "pygments_lexer": "ipython3",
   "version": "3.11.9"
  }
 },
 "nbformat": 4,
 "nbformat_minor": 2
}
